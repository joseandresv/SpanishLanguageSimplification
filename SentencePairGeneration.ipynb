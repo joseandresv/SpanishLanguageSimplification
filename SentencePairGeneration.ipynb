{
 "cells": [
  {
   "cell_type": "code",
   "execution_count": 1,
   "metadata": {},
   "outputs": [],
   "source": [
    "import pandas as pd\n",
    "file_path = \"EASIER_CORPUS\\SGSS.csv\""
   ]
  },
  {
   "cell_type": "code",
   "execution_count": 2,
   "metadata": {},
   "outputs": [
    {
     "name": "stdout",
     "output_type": "stream",
     "text": [
      "<class 'pandas.core.frame.DataFrame'>\n",
      "RangeIndex: 5130 entries, 0 to 5129\n",
      "Data columns (total 4 columns):\n",
      " #   Column    Non-Null Count  Dtype \n",
      "---  ------    --------------  ----- \n",
      " 0   word_id   5130 non-null   int64 \n",
      " 1   word      5130 non-null   object\n",
      " 2   sentence  5130 non-null   object\n",
      " 3   synonims  5130 non-null   object\n",
      "dtypes: int64(1), object(3)\n",
      "memory usage: 160.4+ KB\n",
      "None\n",
      "   word_id        word                                           sentence  \\\n",
      "0      167  etiquetado  La importancia de leer bien el etiquetado ante...   \n",
      "1      168    etiqueta  El Ministerio de Sanidad, Consumo y Bienestar ...   \n",
      "2      169   envasados  El Ministerio de Sanidad, Consumo y Bienestar ...   \n",
      "3      170    a granel  El Ministerio de Sanidad, Consumo y Bienestar ...   \n",
      "4      171      online  El Ministerio de Sanidad, Consumo y Bienestar ...   \n",
      "\n",
      "                         synonims  \n",
      "0    letrero, inscripción, rótulo  \n",
      "1            ceremonia, protocolo  \n",
      "2                    empaquetados  \n",
      "3              suelto, sin envase  \n",
      "4  en línea, conectado a Internet  \n"
     ]
    }
   ],
   "source": [
    "df = pd.read_csv(file_path, sep = \";\", usecols = [\"word_id\", \"word\", \"sentence\", \"synonims\"])\n",
    "print(df.info())\n",
    "print(df.head())"
   ]
  },
  {
   "cell_type": "code",
   "execution_count": 3,
   "metadata": {},
   "outputs": [
    {
     "name": "stdout",
     "output_type": "stream",
     "text": [
      "   word_id        word                                           sentence  \\\n",
      "0      167  etiquetado  La importancia de leer bien el etiquetado ante...   \n",
      "1      168    etiqueta  El Ministerio de Sanidad, Consumo y Bienestar ...   \n",
      "2      169   envasados  El Ministerio de Sanidad, Consumo y Bienestar ...   \n",
      "3      170    a granel  El Ministerio de Sanidad, Consumo y Bienestar ...   \n",
      "4      171      online  El Ministerio de Sanidad, Consumo y Bienestar ...   \n",
      "\n",
      "                         synonims  \n",
      "0    letrero, inscripción, rótulo  \n",
      "1            ceremonia, protocolo  \n",
      "2                    empaquetados  \n",
      "3              suelto, sin envase  \n",
      "4  en línea, conectado a Internet  \n"
     ]
    },
    {
     "data": {
      "text/plain": [
       "RangeIndex(start=0, stop=5130, step=1)"
      ]
     },
     "execution_count": 3,
     "metadata": {},
     "output_type": "execute_result"
    }
   ],
   "source": [
    "df_sinon = pd.DataFrame(df, columns=[\"word_id\", \"word\",\"sentence\", \"synonims\"])\n",
    "print(df_sinon.head())\n",
    "df_sinon.index"
   ]
  },
  {
   "cell_type": "code",
   "execution_count": 4,
   "metadata": {},
   "outputs": [
    {
     "name": "stdout",
     "output_type": "stream",
     "text": [
      "   word_id        word                                           sentence  \\\n",
      "0      167  etiquetado  La importancia de leer bien el etiquetado ante...   \n",
      "1      168    etiqueta  El Ministerio de Sanidad, Consumo y Bienestar ...   \n",
      "2      169   envasados  El Ministerio de Sanidad, Consumo y Bienestar ...   \n",
      "3      170    a granel  El Ministerio de Sanidad, Consumo y Bienestar ...   \n",
      "4      171      online  El Ministerio de Sanidad, Consumo y Bienestar ...   \n",
      "\n",
      "                         synonims                          splitted  \n",
      "0    letrero, inscripción, rótulo    [letrero, inscripción, rótulo]  \n",
      "1            ceremonia, protocolo            [ceremonia, protocolo]  \n",
      "2                    empaquetados                    [empaquetados]  \n",
      "3              suelto, sin envase              [suelto, sin envase]  \n",
      "4  en línea, conectado a Internet  [en línea, conectado a Internet]  \n"
     ]
    }
   ],
   "source": [
    "df_sinon[\"splitted\"] = df[\"synonims\"].str.split(\", \")\n",
    "print(df_sinon.head())"
   ]
  },
  {
   "cell_type": "code",
   "execution_count": 5,
   "metadata": {},
   "outputs": [
    {
     "name": "stdout",
     "output_type": "stream",
     "text": [
      "      word_id              word  \\\n",
      "0         167        etiquetado   \n",
      "1         167        etiquetado   \n",
      "2         167        etiquetado   \n",
      "3         168          etiqueta   \n",
      "4         168          etiqueta   \n",
      "...       ...               ...   \n",
      "7889     8464          generada   \n",
      "7890     8464          generada   \n",
      "7891     8476          ocasiona   \n",
      "7892     8476          ocasiona   \n",
      "7893     8478  bolo alimenticio   \n",
      "\n",
      "                                               sentence            synonims  \n",
      "0     La importancia de leer bien el etiquetado ante...             letrero  \n",
      "1     La importancia de leer bien el etiquetado ante...         inscripción  \n",
      "2     La importancia de leer bien el etiquetado ante...              rótulo  \n",
      "3     El Ministerio de Sanidad, Consumo y Bienestar ...           ceremonia  \n",
      "4     El Ministerio de Sanidad, Consumo y Bienestar ...           protocolo  \n",
      "...                                                 ...                 ...  \n",
      "7889  Nuestra realidad asistencial ha cambiado radic...           provocada  \n",
      "7890  Nuestra realidad asistencial ha cambiado radic...           producida  \n",
      "7891  Dos frecuentes alteraciones que se han observa...             provoca  \n",
      "7892  Dos frecuentes alteraciones que se han observa...              supone  \n",
      "7893  La disfagia orofaríngea (DO) es un trastorno r...  alimento masticado  \n",
      "\n",
      "[7894 rows x 4 columns]\n"
     ]
    }
   ],
   "source": [
    "new_rows = []\n",
    "for index, row in df_sinon.iterrows():\n",
    "    word_id = row['word_id']\n",
    "    word = row['word']\n",
    "    sentence = row['sentence']\n",
    "    synonims = row['splitted']\n",
    "    for synonym in synonims:\n",
    "        new_rows.append({'word_id': word_id, \"word\": word, 'sentence': sentence, 'synonims': synonym})\n",
    "\n",
    "df_sent = pd.DataFrame(new_rows)\n",
    "\n",
    "print(df_sent)"
   ]
  },
  {
   "cell_type": "code",
   "execution_count": 6,
   "metadata": {},
   "outputs": [
    {
     "name": "stdout",
     "output_type": "stream",
     "text": [
      "El Ministerio de Sanidad, Consumo y Bienestar Social ha elaborado, junto a las comunidades autónomas, la campaña ‘Esta Navidad…Que tu mesa se vista de ceremonia’ con el objetivo de recordar a la población la información que debe tener en cuenta a la hora de comprar alimentos envasados o a granel así como los datos que deben figurar en las páginas web que venden online\n"
     ]
    }
   ],
   "source": [
    "new_sentence = df_sent[\"sentence\"][3].replace(df_sent[\"word\"][3], df_sent[\"synonims\"][3])\n",
    "print(new_sentence)"
   ]
  },
  {
   "cell_type": "code",
   "execution_count": 7,
   "metadata": {},
   "outputs": [
    {
     "name": "stdout",
     "output_type": "stream",
     "text": [
      "      word_id              word  \\\n",
      "0         167        etiquetado   \n",
      "1         167        etiquetado   \n",
      "2         167        etiquetado   \n",
      "3         168          etiqueta   \n",
      "4         168          etiqueta   \n",
      "...       ...               ...   \n",
      "7889     8464          generada   \n",
      "7890     8464          generada   \n",
      "7891     8476          ocasiona   \n",
      "7892     8476          ocasiona   \n",
      "7893     8478  bolo alimenticio   \n",
      "\n",
      "                                           new_sentence            synonims  \n",
      "0     La importancia de leer bien el letrero antes d...             letrero  \n",
      "1     La importancia de leer bien el inscripción ant...         inscripción  \n",
      "2     La importancia de leer bien el rótulo antes de...              rótulo  \n",
      "3     El Ministerio de Sanidad, Consumo y Bienestar ...           ceremonia  \n",
      "4     El Ministerio de Sanidad, Consumo y Bienestar ...           protocolo  \n",
      "...                                                 ...                 ...  \n",
      "7889  Nuestra realidad asistencial ha cambiado radic...           provocada  \n",
      "7890  Nuestra realidad asistencial ha cambiado radic...           producida  \n",
      "7891  Dos frecuentes alteraciones que se han observa...             provoca  \n",
      "7892  Dos frecuentes alteraciones que se han observa...              supone  \n",
      "7893  La disfagia orofaríngea (DO) es un trastorno r...  alimento masticado  \n",
      "\n",
      "[7894 rows x 4 columns]\n"
     ]
    }
   ],
   "source": [
    "new_rows = []\n",
    "for index in range(len(df_sent)):\n",
    "    new_sentence = df_sent[\"sentence\"][index].replace(df_sent[\"word\"][index], df_sent[\"synonims\"][index])\n",
    "    new_rows.append({'word_id': df_sent[\"word_id\"][index], \"word\": df_sent[\"word\"][index], 'new_sentence': new_sentence, 'synonims': df_sent[\"synonims\"][index]})\n",
    "\n",
    "df_new_sent = pd.DataFrame(new_rows)\n",
    "\n",
    "print(df_new_sent)"
   ]
  },
  {
   "cell_type": "code",
   "execution_count": 8,
   "metadata": {},
   "outputs": [
    {
     "name": "stdout",
     "output_type": "stream",
     "text": [
      "                                               sentence  \\\n",
      "0     La importancia de leer bien el etiquetado ante...   \n",
      "1     La importancia de leer bien el etiquetado ante...   \n",
      "2     La importancia de leer bien el etiquetado ante...   \n",
      "3     El Ministerio de Sanidad, Consumo y Bienestar ...   \n",
      "4     El Ministerio de Sanidad, Consumo y Bienestar ...   \n",
      "...                                                 ...   \n",
      "7889  Nuestra realidad asistencial ha cambiado radic...   \n",
      "7890  Nuestra realidad asistencial ha cambiado radic...   \n",
      "7891  Dos frecuentes alteraciones que se han observa...   \n",
      "7892  Dos frecuentes alteraciones que se han observa...   \n",
      "7893  La disfagia orofaríngea (DO) es un trastorno r...   \n",
      "\n",
      "                                           new_sentence  \n",
      "0     La importancia de leer bien el letrero antes d...  \n",
      "1     La importancia de leer bien el inscripción ant...  \n",
      "2     La importancia de leer bien el rótulo antes de...  \n",
      "3     El Ministerio de Sanidad, Consumo y Bienestar ...  \n",
      "4     El Ministerio de Sanidad, Consumo y Bienestar ...  \n",
      "...                                                 ...  \n",
      "7889  Nuestra realidad asistencial ha cambiado radic...  \n",
      "7890  Nuestra realidad asistencial ha cambiado radic...  \n",
      "7891  Dos frecuentes alteraciones que se han observa...  \n",
      "7892  Dos frecuentes alteraciones que se han observa...  \n",
      "7893  La disfagia orofaríngea (DO) es un trastorno r...  \n",
      "\n",
      "[7894 rows x 2 columns]\n"
     ]
    }
   ],
   "source": [
    "sentence_pairs = pd.concat([df_sent[\"sentence\"], df_new_sent[\"new_sentence\"]], axis=1)\n",
    "print(sentence_pairs)"
   ]
  },
  {
   "cell_type": "code",
   "execution_count": 9,
   "metadata": {},
   "outputs": [],
   "source": [
    "sentence_pairs.to_csv(\"SGSS_sentence_pairs.csv\", sep = \";\", index=False)"
   ]
  }
 ],
 "metadata": {
  "kernelspec": {
   "display_name": "Python 3",
   "language": "python",
   "name": "python3"
  },
  "language_info": {
   "codemirror_mode": {
    "name": "ipython",
    "version": 3
   },
   "file_extension": ".py",
   "mimetype": "text/x-python",
   "name": "python",
   "nbconvert_exporter": "python",
   "pygments_lexer": "ipython3",
   "version": "3.11.5"
  }
 },
 "nbformat": 4,
 "nbformat_minor": 2
}
